{
 "cells": [
  {
   "cell_type": "code",
   "execution_count": 2,
   "metadata": {},
   "outputs": [],
   "source": [
    "import numpy as np\n",
    "import os\n",
    "import cv2\n",
    "import PIL\n",
    "import PIL.Image\n",
    "import tensorflow as tf\n",
    "import matplotlib.pyplot as plt\n",
    "path=\"CorsicanDB/training/rgb\"\n",
    "import torch\n",
    "import torch.nn as nn"
   ]
  },
  {
   "cell_type": "code",
   "execution_count": 3,
   "metadata": {},
   "outputs": [],
   "source": [
    "#torch.cuda.is_available()\n",
    "gpus= tf.config.experimental.list_physical_devices('GPU')\n",
    "for gpu in gpus:\n",
    "    tf.config.experimental.set_memory_growth(gpu, True)\n"
   ]
  },
  {
   "cell_type": "code",
   "execution_count": 4,
   "metadata": {},
   "outputs": [],
   "source": [
    "training_data=[]\n",
    "def dataset():\n",
    "    count=0\n",
    "    for img in os.listdir(path):\n",
    "        count+=1\n",
    "        img_array=cv2.imread(os.path.join(path,img))\n",
    "        img_array=cv2.resize(img_array,(500,500))\n",
    "        img_array = cv2.cvtColor(img_array, cv2.COLOR_BGR2RGB) \n",
    "        training_data.append(img_array)\n",
    "        #if count>199:\n",
    "        #    break"
   ]
  },
  {
   "cell_type": "code",
   "execution_count": 5,
   "metadata": {},
   "outputs": [],
   "source": [
    "dataset()\n"
   ]
  },
  {
   "cell_type": "code",
   "execution_count": 6,
   "metadata": {},
   "outputs": [
    {
     "data": {
      "text/plain": [
       "(500, 500, 3)"
      ]
     },
     "execution_count": 6,
     "metadata": {},
     "output_type": "execute_result"
    }
   ],
   "source": [
    "training_data[0].shape"
   ]
  },
  {
   "cell_type": "code",
   "execution_count": null,
   "metadata": {},
   "outputs": [],
   "source": []
  },
  {
   "cell_type": "code",
   "execution_count": null,
   "metadata": {},
   "outputs": [],
   "source": []
  },
  {
   "cell_type": "code",
   "execution_count": 6,
   "metadata": {},
   "outputs": [
    {
     "data": {
      "text/plain": [
       "'class CAE(nn.Module):\\n    def __init__(self, num_features, emb_dim):\\n\\n        super(CAE, self).__init__()\\n        self.conv1 = nn.Conv2d(num_features, 32, kernel_size=4, padding=1)\\n        self.pool1 = nn.MaxPool2d(2)\\n        self.bn1 = nn.BatchNorm2d(64)\\n        self.act1 = nn.ELU(True)\\n\\n        self.conv2 = nn.Conv2d(64, 128, kernel_size=4, padding=1)\\n        self.pool2 = nn.MaxPool2d(2)\\n        self.bn2 = nn.BatchNorm2d(128)\\n        self.act2 = nn.ELU(True)\\n\\n        self.head = nn.Sequential(\\n            nn.Linear(500, 500),\\n            nn.ELU(),\\n            nn.Linear(128, 64),\\n            nn.ELU(),\\n            nn.Linear(64, 32),\\n            nn.ELU(),\\n            nn.Linear(32, emb_dim),\\n        )\\n\\n        self.decoder = nn.Sequential(\\n            nn.Linear(emb_dim, 32),\\n            nn.ELU(),\\n            nn.Linear(32, 64),\\n            nn.ELU(),\\n            nn.Linear(64, 128),\\n            nn.ELU(),\\n            nn.Linear(128, num_features),\\n        )\\n\\n        self.num_features = num_features\\n\\n    def get_embedding(self, x):\\n        x = self.conv1(x)\\n        x = self.pool1(x)\\n        x = self.act1(x)\\n\\n        x = self.conv2(x)\\n        x = self.pool2(x)\\n        x = self.act2(x)\\n        \\n        x = torch.flatten(x, start_dim=1)\\n\\n        x = self.head(x)\\n\\n        return x\\n\\n    def forward(self, x):\\n        x = x.permute(0, 3, 1, 2)\\n\\n        x = self.get_embedding(x)\\n        x = self.decoder(x)\\n        x = torch.reshape(x, (x.shape[0], self.num_features))\\n\\n        return x'"
      ]
     },
     "execution_count": 6,
     "metadata": {},
     "output_type": "execute_result"
    }
   ],
   "source": [
    "'''class CAE(nn.Module):\n",
    "    def __init__(self, num_features, emb_dim):\n",
    "\n",
    "        super(CAE, self).__init__()\n",
    "        self.conv1 = nn.Conv2d(num_features, 32, kernel_size=4, padding=1)\n",
    "        self.pool1 = nn.MaxPool2d(2)\n",
    "        self.bn1 = nn.BatchNorm2d(64)\n",
    "        self.act1 = nn.ELU(True)\n",
    "\n",
    "        self.conv2 = nn.Conv2d(64, 128, kernel_size=4, padding=1)\n",
    "        self.pool2 = nn.MaxPool2d(2)\n",
    "        self.bn2 = nn.BatchNorm2d(128)\n",
    "        self.act2 = nn.ELU(True)\n",
    "\n",
    "        self.head = nn.Sequential(\n",
    "            nn.Linear(500, 500),\n",
    "            nn.ELU(),\n",
    "            nn.Linear(128, 64),\n",
    "            nn.ELU(),\n",
    "            nn.Linear(64, 32),\n",
    "            nn.ELU(),\n",
    "            nn.Linear(32, emb_dim),\n",
    "        )\n",
    "\n",
    "        self.decoder = nn.Sequential(\n",
    "            nn.Linear(emb_dim, 32),\n",
    "            nn.ELU(),\n",
    "            nn.Linear(32, 64),\n",
    "            nn.ELU(),\n",
    "            nn.Linear(64, 128),\n",
    "            nn.ELU(),\n",
    "            nn.Linear(128, num_features),\n",
    "        )\n",
    "\n",
    "        self.num_features = num_features\n",
    "\n",
    "    def get_embedding(self, x):\n",
    "        x = self.conv1(x)\n",
    "        x = self.pool1(x)\n",
    "        x = self.act1(x)\n",
    "\n",
    "        x = self.conv2(x)\n",
    "        x = self.pool2(x)\n",
    "        x = self.act2(x)\n",
    "        \n",
    "        x = torch.flatten(x, start_dim=1)\n",
    "\n",
    "        x = self.head(x)\n",
    "\n",
    "        return x\n",
    "\n",
    "    def forward(self, x):\n",
    "        x = x.permute(0, 3, 1, 2)\n",
    "\n",
    "        x = self.get_embedding(x)\n",
    "        x = self.decoder(x)\n",
    "        x = torch.reshape(x, (x.shape[0], self.num_features))\n",
    "\n",
    "        return x'''"
   ]
  },
  {
   "cell_type": "code",
   "execution_count": 7,
   "metadata": {},
   "outputs": [
    {
     "data": {
      "text/plain": [
       "'from torch.utils.data import Dataset\\nimport numpy as np \\nimport torch\\n\\nclass TS_Dataset(Dataset):\\n    \"\"\"Time Series dataset.\"\"\"\\n\\n    def __init__(self, stack):\\n        self.stack = stack\\n        self.size = self.stack.shape[0]\\n\\n    def __len__(self):\\n        return self.size\\n\\n    def __getitem__(self, idx):\\n        if torch.is_tensor(idx):\\n            idx = idx.tolist()\\n\\n        x = self.stack[idx, :]\\n\\n        return torch.FloatTensor(x)'"
      ]
     },
     "execution_count": 7,
     "metadata": {},
     "output_type": "execute_result"
    }
   ],
   "source": [
    "'''from torch.utils.data import Dataset\n",
    "import numpy as np \n",
    "import torch\n",
    "\n",
    "class TS_Dataset(Dataset):\n",
    "    \"\"\"Time Series dataset.\"\"\"\n",
    "\n",
    "    def __init__(self, stack):\n",
    "        self.stack = stack\n",
    "        self.size = self.stack.shape[0]\n",
    "\n",
    "    def __len__(self):\n",
    "        return self.size\n",
    "\n",
    "    def __getitem__(self, idx):\n",
    "        if torch.is_tensor(idx):\n",
    "            idx = idx.tolist()\n",
    "\n",
    "        x = self.stack[idx, :]\n",
    "\n",
    "        return torch.FloatTensor(x)'''"
   ]
  },
  {
   "cell_type": "code",
   "execution_count": 7,
   "metadata": {},
   "outputs": [],
   "source": [
    "training_data=np.array(training_data)"
   ]
  },
  {
   "cell_type": "code",
   "execution_count": 8,
   "metadata": {},
   "outputs": [
    {
     "data": {
      "text/plain": [
       "(595, 500, 500, 3)"
      ]
     },
     "execution_count": 8,
     "metadata": {},
     "output_type": "execute_result"
    }
   ],
   "source": [
    "training_data.shape"
   ]
  },
  {
   "cell_type": "code",
   "execution_count": 50,
   "metadata": {},
   "outputs": [],
   "source": [
    "class CAE(nn.Module): \n",
    "    def __init__(self, num_features, emb_dim):\n",
    "        super(CAE, self).__init__()\n",
    "        self.conv1 = nn.Conv2d(num_features, 12, kernel_size=3, padding=1)  # 3 channels for RGB\n",
    "        self.pool1 = nn.MaxPool2d(2)\n",
    "        self.bn1 = nn.BatchNorm2d(12)\n",
    "        self.act1 = nn.ELU(True)\n",
    "\n",
    "        self.conv2 = nn.Conv2d(12, 24, kernel_size=3, padding=1)\n",
    "        #self.pool2 = nn.MaxPool2d(2)\n",
    "        self.bn2 = nn.BatchNorm2d(24)\n",
    "        self.act2 = nn.ELU(True)\n",
    "\n",
    "        self.conv3 = nn.Conv2d(24, 48, kernel_size=3, padding=1)\n",
    "        self.pool3 = nn.MaxPool2d(2)\n",
    "        self.bn3 = nn.BatchNorm2d(48)\n",
    "        self.act3 = nn.ELU(True)\n",
    "\n",
    "        # Updated Linear Layer to match the flattened size\n",
    "        self.head = nn.Sequential(\n",
    "            nn.Linear(125*125*48, 256),\n",
    "            nn.ELU(),\n",
    "            \n",
    "            \n",
    "            \n",
    "            nn.Linear(256, emb_dim),  # Embedding dimension\n",
    "        )\n",
    "\n",
    "        # Decoder layers\n",
    "        self.decoder = nn.Sequential(\n",
    "            nn.Linear(emb_dim, 256),\n",
    "            nn.ELU(),\n",
    "            \n",
    "           \n",
    "            \n",
    "            nn.Linear(256, 48*125*125),\n",
    "            nn.ELU(),\n",
    "            \n",
    "            nn.Unflatten(1, (48, 125, 125)),\n",
    "            nn.ConvTranspose2d(48, 24, kernel_size=3, padding=1,stride=2,output_padding=1),\n",
    "            nn.ELU(True),\n",
    "            nn.ConvTranspose2d(24, 12, kernel_size=3, padding=1,stride=1,output_padding=0),\n",
    "            nn.ELU(True),\n",
    "            nn.ConvTranspose2d(12, num_features, kernel_size=3, padding=1,stride=2,output_padding=1),\n",
    "            nn.ELU(True)\n",
    "        )\n",
    "\n",
    "        self.num_features = num_features\n",
    "\n",
    "    def get_embedding(self, x):\n",
    "        x = x.permute(0, 3, 1, 2)\n",
    "        x = self.conv1(x)\n",
    "        x = self.pool1(x)\n",
    "        x=  self.bn1(x)\n",
    "        x = self.act1(x)\n",
    "\n",
    "        x = self.conv2(x)\n",
    "        #x = self.pool2(x)\n",
    "        x=  self.bn2(x)\n",
    "        x = self.act2(x)\n",
    "        \n",
    "        x = self.conv3(x)\n",
    "        x = self.pool3(x)\n",
    "        x=  self.bn3(x)\n",
    "        x = self.act3(x)\n",
    "        \n",
    "        print(\"conv layers size:\",x.size())\n",
    "        x = torch.flatten(x, start_dim=1)\n",
    "        print(\"flattened size:\",x.size())\n",
    "        x = self.head(x)\n",
    "        print(\"head:\",x.size())\n",
    "        return x\n",
    "\n",
    "    def forward(self, x):\n",
    "        \n",
    "        x = self.get_embedding(x)\n",
    "        x = self.decoder(x)\n",
    "        #print(x.size())\n",
    "        x = torch.reshape(x, (x.shape[0],self.num_features,500,500))  # Reshape back to 500x500 with 3 channels\n",
    "        x = x.permute(0, 3, 2, 1)\n",
    "        #print(\"final size:\",x.size)\n",
    "        return x\n"
   ]
  },
  {
   "cell_type": "code",
   "execution_count": 7,
   "metadata": {},
   "outputs": [],
   "source": [
    "torch.cuda.is_available()\n",
    "torch.cuda.empty_cache()"
   ]
  },
  {
   "cell_type": "code",
   "execution_count": 10,
   "metadata": {},
   "outputs": [],
   "source": [
    "device = \"cuda\" if torch.cuda.is_available() else \"cpu\"\n"
   ]
  },
  {
   "cell_type": "code",
   "execution_count": 11,
   "metadata": {},
   "outputs": [],
   "source": [
    "loader=torch.FloatTensor(training_data)"
   ]
  },
  {
   "cell_type": "code",
   "execution_count": 52,
   "metadata": {},
   "outputs": [],
   "source": [
    "#loader= TS_Dataset(training_data)\n",
    "trainloader = torch.utils.data.DataLoader(loader, batch_size=16,\n",
    "                                          shuffle=True)\n",
    "net = CAE(num_features = 3, emb_dim = 128).to(device)\n",
    "net = net.train()"
   ]
  },
  {
   "cell_type": "code",
   "execution_count": 14,
   "metadata": {},
   "outputs": [
    {
     "name": "stdout",
     "output_type": "stream",
     "text": [
      "\n",
      "[1] loss: 12199.836 , avg_loss 16266.448\n",
      "\n",
      "\n",
      "[1] loss: 13403.026 , avg_loss 14630.207\n",
      "\n",
      "\n",
      "[1] loss: 10276.508 , avg_loss 13047.044\n",
      "\n",
      "\n",
      "[1] loss: 8248.223 , avg_loss 11767.358\n",
      "\n",
      "\n",
      "[1] loss: 6619.247 , avg_loss 10683.545\n",
      "\n",
      "\n",
      "[1] loss: 6301.903 , avg_loss 9921.521\n",
      "\n",
      "\n",
      "[1] loss: 4975.967 , avg_loss 9188.846\n",
      "\n",
      "\n",
      "[1] loss: 5296.599 , avg_loss 8686.621\n",
      "\n",
      "\n",
      "[1] loss: 4614.866 , avg_loss 8221.277\n",
      "\n",
      "\n",
      "[2] loss: 3234.025 , avg_loss 4312.033\n",
      "\n",
      "\n",
      "[2] loss: 4183.663 , avg_loss 4238.679\n",
      "\n",
      "\n",
      "[2] loss: 3956.010 , avg_loss 4135.890\n",
      "\n",
      "\n",
      "[2] loss: 3974.586 , avg_loss 4092.876\n",
      "\n",
      "\n",
      "[2] loss: 3813.389 , avg_loss 4034.036\n",
      "\n",
      "\n",
      "[2] loss: 3427.486 , avg_loss 3928.549\n",
      "\n",
      "\n",
      "[2] loss: 3810.625 , avg_loss 3911.079\n",
      "\n",
      "\n",
      "[2] loss: 3515.865 , avg_loss 3860.084\n",
      "\n",
      "\n",
      "[2] loss: 3852.360 , avg_loss 3859.201\n",
      "\n",
      "\n",
      "[3] loss: 2688.432 , avg_loss 3584.577\n",
      "\n",
      "\n",
      "[3] loss: 4096.573 , avg_loss 3877.146\n",
      "\n",
      "\n",
      "[3] loss: 4206.740 , avg_loss 3996.998\n",
      "\n",
      "\n",
      "[3] loss: 3881.542 , avg_loss 3966.210\n",
      "\n",
      "\n",
      "[3] loss: 3361.632 , avg_loss 3838.930\n",
      "\n",
      "\n",
      "[3] loss: 3518.555 , avg_loss 3783.213\n",
      "\n",
      "\n",
      "[3] loss: 3600.905 , avg_loss 3756.204\n",
      "\n",
      "\n",
      "[3] loss: 3562.937 , avg_loss 3731.267\n",
      "\n",
      "\n",
      "[3] loss: 3213.522 , avg_loss 3672.096\n",
      "\n",
      "\n",
      "[4] loss: 2308.055 , avg_loss 3077.407\n",
      "\n",
      "\n",
      "[4] loss: 3148.624 , avg_loss 3118.102\n",
      "\n",
      "\n",
      "[4] loss: 3667.562 , avg_loss 3317.906\n",
      "\n",
      "\n",
      "[4] loss: 3304.651 , avg_loss 3314.371\n",
      "\n",
      "\n",
      "[4] loss: 3115.259 , avg_loss 3272.453\n",
      "\n",
      "\n",
      "[4] loss: 3585.299 , avg_loss 3326.861\n",
      "\n",
      "\n",
      "[4] loss: 3334.551 , avg_loss 3328.000\n",
      "\n",
      "\n",
      "[4] loss: 2815.557 , avg_loss 3261.878\n",
      "\n",
      "\n",
      "[4] loss: 2404.949 , avg_loss 3163.944\n",
      "\n",
      "\n",
      "[5] loss: 1449.505 , avg_loss 1932.674\n",
      "\n",
      "\n",
      "[5] loss: 2180.692 , avg_loss 2074.399\n",
      "\n",
      "\n",
      "[5] loss: 2012.060 , avg_loss 2051.730\n",
      "\n",
      "\n",
      "[5] loss: 2062.885 , avg_loss 2054.704\n",
      "\n",
      "\n",
      "[5] loss: 2134.091 , avg_loss 2071.417\n",
      "\n",
      "\n",
      "[5] loss: 1790.331 , avg_loss 2022.533\n",
      "\n",
      "\n",
      "[5] loss: 1784.039 , avg_loss 1987.200\n",
      "\n",
      "\n",
      "[5] loss: 1918.286 , avg_loss 1978.308\n",
      "\n",
      "\n",
      "[5] loss: 2301.025 , avg_loss 2015.190\n",
      "\n",
      "\n",
      "[6] loss: 1254.122 , avg_loss 1672.162\n",
      "\n",
      "\n",
      "[6] loss: 1941.321 , avg_loss 1825.967\n",
      "\n",
      "\n",
      "[6] loss: 1712.446 , avg_loss 1784.687\n",
      "\n",
      "\n",
      "[6] loss: 1646.728 , avg_loss 1747.898\n",
      "\n",
      "\n",
      "[6] loss: 1700.178 , avg_loss 1737.852\n",
      "\n",
      "\n",
      "[6] loss: 1888.010 , avg_loss 1763.966\n",
      "\n",
      "\n",
      "[6] loss: 1951.876 , avg_loss 1791.805\n",
      "\n",
      "\n",
      "[6] loss: 1849.203 , avg_loss 1799.211\n",
      "\n",
      "\n",
      "[6] loss: 1784.195 , avg_loss 1797.495\n",
      "\n",
      "\n",
      "[7] loss: 1213.404 , avg_loss 1617.872\n",
      "\n",
      "\n",
      "[7] loss: 1564.031 , avg_loss 1587.106\n",
      "\n",
      "\n",
      "[7] loss: 1714.933 , avg_loss 1633.588\n",
      "\n",
      "\n",
      "[7] loss: 1948.161 , avg_loss 1717.474\n",
      "\n",
      "\n",
      "[7] loss: 1528.225 , avg_loss 1677.632\n",
      "\n",
      "\n",
      "[7] loss: 1552.802 , avg_loss 1655.923\n",
      "\n",
      "\n",
      "[7] loss: 1513.455 , avg_loss 1634.816\n",
      "\n",
      "\n",
      "[7] loss: 1388.127 , avg_loss 1602.986\n",
      "\n",
      "\n",
      "[7] loss: 1480.833 , avg_loss 1589.025\n",
      "\n",
      "\n",
      "[8] loss: 1264.025 , avg_loss 1685.366\n",
      "\n",
      "\n",
      "[8] loss: 1409.718 , avg_loss 1527.853\n",
      "\n",
      "\n",
      "[8] loss: 1422.853 , avg_loss 1489.671\n",
      "\n",
      "\n",
      "[8] loss: 1222.011 , avg_loss 1418.295\n",
      "\n",
      "\n",
      "[8] loss: 1317.116 , avg_loss 1396.994\n",
      "\n",
      "\n",
      "[8] loss: 1354.759 , avg_loss 1389.649\n",
      "\n",
      "\n",
      "[8] loss: 1470.831 , avg_loss 1401.676\n",
      "\n",
      "\n",
      "[8] loss: 1507.954 , avg_loss 1415.389\n",
      "\n",
      "\n",
      "[8] loss: 1393.011 , avg_loss 1412.832\n",
      "\n",
      "\n",
      "[9] loss: 949.730 , avg_loss 1266.306\n",
      "\n",
      "\n",
      "[9] loss: 1241.017 , avg_loss 1251.855\n",
      "\n",
      "\n",
      "[9] loss: 1431.061 , avg_loss 1317.021\n",
      "\n",
      "\n",
      "[9] loss: 1264.459 , avg_loss 1303.004\n",
      "\n",
      "\n",
      "[9] loss: 1491.020 , avg_loss 1342.587\n",
      "\n",
      "\n",
      "[9] loss: 1333.867 , avg_loss 1341.070\n",
      "\n",
      "\n",
      "[9] loss: 1289.904 , avg_loss 1333.490\n",
      "\n",
      "\n",
      "[9] loss: 1318.267 , avg_loss 1331.526\n",
      "\n",
      "\n",
      "[9] loss: 1642.930 , avg_loss 1367.115\n",
      "\n",
      "\n",
      "[10] loss: 1571.120 , avg_loss 2094.827\n",
      "\n",
      "\n",
      "[10] loss: 1471.975 , avg_loss 1738.911\n",
      "\n",
      "\n",
      "[10] loss: 1415.436 , avg_loss 1621.284\n",
      "\n",
      "\n",
      "[10] loss: 1376.762 , avg_loss 1556.078\n",
      "\n",
      "\n",
      "[10] loss: 1513.219 , avg_loss 1547.055\n",
      "\n",
      "\n",
      "[10] loss: 1287.723 , avg_loss 1501.954\n",
      "\n",
      "\n",
      "[10] loss: 1240.516 , avg_loss 1463.222\n",
      "\n",
      "\n",
      "[10] loss: 1424.509 , avg_loss 1458.227\n",
      "\n",
      "\n",
      "[10] loss: 1465.613 , avg_loss 1459.071\n",
      "\n",
      "\n",
      "[11] loss: 1105.898 , avg_loss 1474.531\n",
      "\n",
      "\n",
      "[11] loss: 1433.018 , avg_loss 1450.809\n",
      "\n",
      "\n",
      "[11] loss: 1467.689 , avg_loss 1456.947\n",
      "\n",
      "\n",
      "[11] loss: 1534.603 , avg_loss 1477.656\n",
      "\n",
      "\n",
      "[11] loss: 1433.469 , avg_loss 1468.353\n",
      "\n",
      "\n",
      "[11] loss: 1378.025 , avg_loss 1452.644\n",
      "\n",
      "\n",
      "[11] loss: 1340.494 , avg_loss 1436.029\n",
      "\n",
      "\n",
      "[11] loss: 1328.716 , avg_loss 1422.182\n",
      "\n",
      "\n",
      "[11] loss: 1281.304 , avg_loss 1406.082\n",
      "\n",
      "\n",
      "[12] loss: 987.719 , avg_loss 1316.959\n",
      "\n",
      "\n",
      "[12] loss: 1275.381 , avg_loss 1293.200\n",
      "\n",
      "\n",
      "[12] loss: 1185.196 , avg_loss 1253.926\n",
      "\n",
      "\n",
      "[12] loss: 1268.169 , avg_loss 1257.724\n",
      "\n",
      "\n",
      "[12] loss: 1272.712 , avg_loss 1260.879\n",
      "\n",
      "\n",
      "[12] loss: 1147.106 , avg_loss 1241.093\n",
      "\n",
      "\n",
      "[12] loss: 1148.229 , avg_loss 1227.335\n",
      "\n",
      "\n",
      "[12] loss: 1182.032 , avg_loss 1221.489\n",
      "\n",
      "\n",
      "[12] loss: 1146.116 , avg_loss 1212.875\n",
      "\n",
      "\n",
      "[13] loss: 806.561 , avg_loss 1075.415\n",
      "\n",
      "\n",
      "[13] loss: 1195.051 , avg_loss 1143.778\n",
      "\n",
      "\n",
      "[13] loss: 1135.046 , avg_loss 1140.603\n",
      "\n",
      "\n",
      "[13] loss: 1129.783 , avg_loss 1137.717\n",
      "\n",
      "\n",
      "[13] loss: 1099.399 , avg_loss 1129.650\n",
      "\n",
      "\n",
      "[13] loss: 1341.546 , avg_loss 1166.502\n",
      "\n",
      "\n",
      "[13] loss: 1069.940 , avg_loss 1152.196\n",
      "\n",
      "\n",
      "[13] loss: 1262.717 , avg_loss 1166.457\n",
      "\n",
      "\n",
      "[13] loss: 1248.424 , avg_loss 1175.825\n",
      "\n",
      "\n",
      "[14] loss: 890.486 , avg_loss 1187.314\n",
      "\n",
      "\n",
      "[14] loss: 1126.028 , avg_loss 1152.294\n",
      "\n",
      "\n",
      "[14] loss: 1045.037 , avg_loss 1113.291\n",
      "\n",
      "\n",
      "[14] loss: 1016.490 , avg_loss 1087.477\n",
      "\n",
      "\n",
      "[14] loss: 1006.272 , avg_loss 1070.382\n",
      "\n",
      "\n",
      "[14] loss: 1041.606 , avg_loss 1065.377\n",
      "\n",
      "\n",
      "[14] loss: 1031.939 , avg_loss 1060.423\n",
      "\n",
      "\n",
      "[14] loss: 1026.368 , avg_loss 1056.029\n",
      "\n",
      "\n",
      "[14] loss: 1085.480 , avg_loss 1059.395\n",
      "\n",
      "\n",
      "[15] loss: 800.443 , avg_loss 1067.258\n",
      "\n",
      "\n",
      "[15] loss: 1214.795 , avg_loss 1151.565\n",
      "\n",
      "\n",
      "[15] loss: 1121.562 , avg_loss 1140.654\n",
      "\n",
      "\n",
      "[15] loss: 1170.401 , avg_loss 1148.587\n",
      "\n",
      "\n",
      "[15] loss: 916.718 , avg_loss 1099.772\n",
      "\n",
      "\n",
      "[15] loss: 1160.420 , avg_loss 1110.320\n",
      "\n",
      "\n",
      "[15] loss: 1036.334 , avg_loss 1099.359\n",
      "\n",
      "\n",
      "[15] loss: 1365.810 , avg_loss 1133.740\n",
      "\n",
      "\n",
      "[15] loss: 1282.966 , avg_loss 1150.794\n",
      "\n",
      "\n",
      "[16] loss: 837.187 , avg_loss 1116.249\n",
      "\n",
      "\n",
      "[16] loss: 1274.430 , avg_loss 1206.638\n",
      "\n",
      "\n",
      "[16] loss: 1174.151 , avg_loss 1194.825\n",
      "\n",
      "\n",
      "[16] loss: 1133.555 , avg_loss 1178.486\n",
      "\n",
      "\n",
      "[16] loss: 1085.561 , avg_loss 1158.923\n",
      "\n",
      "\n",
      "[16] loss: 1051.328 , avg_loss 1140.211\n",
      "\n",
      "\n",
      "[16] loss: 976.812 , avg_loss 1116.003\n",
      "\n",
      "\n",
      "[16] loss: 1106.834 , avg_loss 1114.820\n",
      "\n",
      "\n",
      "[16] loss: 965.841 , avg_loss 1097.794\n",
      "\n",
      "\n",
      "[17] loss: 650.627 , avg_loss 867.503\n",
      "\n",
      "\n",
      "[17] loss: 954.742 , avg_loss 917.354\n",
      "\n",
      "\n",
      "[17] loss: 957.847 , avg_loss 932.079\n",
      "\n",
      "\n",
      "[17] loss: 992.675 , avg_loss 948.238\n",
      "\n",
      "\n",
      "[17] loss: 925.364 , avg_loss 943.422\n",
      "\n",
      "\n",
      "[17] loss: 917.621 , avg_loss 938.935\n",
      "\n",
      "\n",
      "[17] loss: 940.107 , avg_loss 939.109\n",
      "\n",
      "\n",
      "[17] loss: 938.393 , avg_loss 939.016\n",
      "\n",
      "\n",
      "[17] loss: 869.164 , avg_loss 931.033\n",
      "\n",
      "\n",
      "[18] loss: 620.617 , avg_loss 827.489\n",
      "\n",
      "\n",
      "[18] loss: 949.420 , avg_loss 897.164\n",
      "\n",
      "\n",
      "[18] loss: 905.183 , avg_loss 900.080\n",
      "\n",
      "\n",
      "[18] loss: 850.163 , avg_loss 886.769\n",
      "\n",
      "\n",
      "[18] loss: 863.824 , avg_loss 881.938\n",
      "\n",
      "\n",
      "[18] loss: 785.305 , avg_loss 865.132\n",
      "\n",
      "\n",
      "[18] loss: 836.664 , avg_loss 860.915\n",
      "\n",
      "\n",
      "[18] loss: 829.245 , avg_loss 856.829\n",
      "\n",
      "\n",
      "[18] loss: 826.903 , avg_loss 853.408\n",
      "\n",
      "\n",
      "[19] loss: 620.961 , avg_loss 827.948\n",
      "\n",
      "\n",
      "[19] loss: 1036.062 , avg_loss 946.870\n",
      "\n",
      "\n",
      "[19] loss: 954.616 , avg_loss 949.687\n",
      "\n",
      "\n",
      "[19] loss: 902.051 , avg_loss 936.984\n",
      "\n",
      "\n",
      "[19] loss: 931.951 , avg_loss 935.924\n",
      "\n",
      "\n",
      "[19] loss: 845.640 , avg_loss 920.223\n",
      "\n",
      "\n",
      "[19] loss: 785.722 , avg_loss 900.297\n",
      "\n",
      "\n",
      "[19] loss: 837.996 , avg_loss 892.258\n",
      "\n",
      "\n",
      "[19] loss: 863.527 , avg_loss 888.974\n",
      "\n",
      "\n",
      "[20] loss: 717.284 , avg_loss 956.379\n",
      "\n",
      "\n",
      "[20] loss: 934.908 , avg_loss 944.110\n",
      "\n",
      "\n",
      "[20] loss: 830.749 , avg_loss 902.888\n",
      "\n",
      "\n",
      "[20] loss: 856.646 , avg_loss 890.557\n",
      "\n",
      "\n",
      "[20] loss: 876.019 , avg_loss 887.496\n",
      "\n",
      "\n",
      "[20] loss: 929.076 , avg_loss 894.727\n",
      "\n",
      "\n",
      "[20] loss: 882.633 , avg_loss 892.936\n",
      "\n",
      "\n",
      "[20] loss: 883.313 , avg_loss 891.694\n",
      "\n",
      "\n",
      "[20] loss: 907.622 , avg_loss 893.514\n",
      "\n"
     ]
    }
   ],
   "source": [
    "import torch.optim as optim\n",
    "epoch_counts = 20\n",
    "#batch_size = 64\n",
    "lr = 0.001\n",
    "criterion = nn.MSELoss()\n",
    "optimizer = optim.Adam(net.parameters(), lr=lr)\n",
    "\n",
    "for epoch in range(epoch_counts):\n",
    "    running_loss = 0.0\n",
    "    epoch_avg_loss = 0\n",
    "    i = 1\n",
    "    for data in trainloader:\n",
    "        inputs = data\n",
    "\n",
    "        inputs = inputs.to(device)\n",
    "\n",
    "        optimizer.zero_grad()\n",
    "\n",
    "        outputs = net(inputs)\n",
    "        loss = criterion(outputs, inputs)\n",
    "        loss.backward()\n",
    "        optimizer.step()\n",
    "\n",
    "        running_loss += loss.item()\n",
    "        epoch_avg_loss += loss.item()\n",
    "        if i % 4 == 3:    \n",
    "            print(f'\\n[{epoch + 1}] loss: {running_loss / 4:.3f} , avg_loss {epoch_avg_loss / i:.3f}\\n')\n",
    "            running_loss = 0.0\n",
    "\n",
    "        i += 1"
   ]
  },
  {
   "cell_type": "code",
   "execution_count": 15,
   "metadata": {},
   "outputs": [],
   "source": [
    "torch.save(net, \"models/\" + 'autoencode_epoch_best(maybe)'+str(epoch+1))"
   ]
  },
  {
   "cell_type": "code",
   "execution_count": 2,
   "metadata": {},
   "outputs": [],
   "source": [
    "import numpy as np\n",
    "import os\n",
    "import cv2\n",
    "import PIL\n",
    "import PIL.Image\n",
    "import tensorflow as tf\n",
    "import matplotlib.pyplot as plt\n",
    "path=\"CorsicanDB/training/rgb\"\n",
    "import torch\n",
    "import torch.nn as nn\n"
   ]
  },
  {
   "cell_type": "code",
   "execution_count": 12,
   "metadata": {},
   "outputs": [
    {
     "name": "stderr",
     "output_type": "stream",
     "text": [
      "C:\\Users\\prabh\\AppData\\Local\\Temp\\ipykernel_2924\\2251334908.py:1: FutureWarning: You are using `torch.load` with `weights_only=False` (the current default value), which uses the default pickle module implicitly. It is possible to construct malicious pickle data which will execute arbitrary code during unpickling (See https://github.com/pytorch/pytorch/blob/main/SECURITY.md#untrusted-models for more details). In a future release, the default value for `weights_only` will be flipped to `True`. This limits the functions that could be executed during unpickling. Arbitrary objects will no longer be allowed to be loaded via this mode unless they are explicitly allowlisted by the user via `torch.serialization.add_safe_globals`. We recommend you start setting `weights_only=True` for any use case where you don't have full control of the loaded file. Please open an issue on GitHub for any issues related to this experimental feature.\n",
      "  net=torch.load(\"models/autoencode_epoch_best(maybe1)20\")\n"
     ]
    }
   ],
   "source": [
    "net=torch.load(\"models/autoencode_epoch_best(maybe1)20\")\n"
   ]
  },
  {
   "cell_type": "code",
   "execution_count": 70,
   "metadata": {},
   "outputs": [],
   "source": [
    "image_example=12\n",
    "d=training_data[image_example]\n",
    "d=torch.FloatTensor(d)\n",
    "d = d.unsqueeze(0)\n",
    "d.size()\n",
    "d=d.to(device)\n",
    "output=net(d)"
   ]
  },
  {
   "cell_type": "code",
   "execution_count": 71,
   "metadata": {},
   "outputs": [],
   "source": [
    "output1=output.squeeze(0)\n",
    "output1.shape\n",
    "output12=output1.detach().cpu().numpy()\n",
    "output12.shape\n",
    "output_np = (output12 - output12.min()) / (output12.max() - output12.min())"
   ]
  },
  {
   "cell_type": "code",
   "execution_count": 72,
   "metadata": {},
   "outputs": [
    {
     "data": {
      "image/png": "[encoded data removed]",
      "text/plain": [
       "<Figure size 200x200 with 1 Axes>"
      ]
     },
     "metadata": {},
     "output_type": "display_data"
    }
   ],
   "source": [
    "plt.figure(figsize=(2,2))\n",
    "plt.imshow(training_data[image_example])\n",
    "plt.show()"
   ]
  },
  {
   "cell_type": "code",
   "execution_count": 73,
   "metadata": {},
   "outputs": [
    {
     "data": {
      "image/png": "[encoded data removed]",
      "text/plain": [
       "<Figure size 200x200 with 1 Axes>"
      ]
     },
     "metadata": {},
     "output_type": "display_data"
    }
   ],
   "source": [
    "plt.figure(figsize=(2,2))\n",
    "plt.imshow(output_np)\n",
    "plt.show()"
   ]
  },
  {
   "cell_type": "code",
   "execution_count": 56,
   "metadata": {},
   "outputs": [],
   "source": [
    "'''testpath=\"CorsicanDB/testing/rgb/416_rgb.png\"\n",
    "img_test=cv2.imread(testpath)\n",
    "img_test=cv2.resize(img_test,(500,500))\n",
    "img_test = cv2.cvtColor(img_test, cv2.COLOR_BGR2RGB) \n",
    "test=torch.FloatTensor(img_test)\n",
    "test=test.unsqueeze(0)\n",
    "test=test.to(device)'''"
   ]
  },
  {
   "cell_type": "code",
   "execution_count": 22,
   "metadata": {},
   "outputs": [],
   "source": [
    "outputs = net.get_embedding(d)\n",
    "outputs=outputs.detach().cpu().numpy()\n",
    "outputs=outputs.reshape((8,16))"
   ]
  },
  {
   "cell_type": "code",
   "execution_count": 23,
   "metadata": {},
   "outputs": [
    {
     "data": {
      "image/png": "[encoded data removed]",
      "text/plain": [
       "<Figure size 500x1000 with 1 Axes>"
      ]
     },
     "metadata": {},
     "output_type": "display_data"
    }
   ],
   "source": [
    "plt.figure(figsize=(5,10))\n",
    "plt.imshow(outputs)\n",
    "plt.show()"
   ]
  },
  {
   "cell_type": "code",
   "execution_count": 13,
   "metadata": {},
   "outputs": [
    {
     "data": {
      "text/plain": [
       "numpy.ndarray"
      ]
     },
     "execution_count": 13,
     "metadata": {},
     "output_type": "execute_result"
    }
   ],
   "source": [
    "type(training_data)"
   ]
  },
  {
   "cell_type": "code",
   "execution_count": 67,
   "metadata": {},
   "outputs": [
    {
     "name": "stdout",
     "output_type": "stream",
     "text": [
      "conv layers size: torch.Size([32, 48, 125, 125])\n",
      "flattened size: torch.Size([32, 750000])\n",
      "head: torch.Size([32, 128])\n",
      "conv layers size: torch.Size([32, 48, 125, 125])\n",
      "flattened size: torch.Size([32, 750000])\n",
      "head: torch.Size([32, 128])\n",
      "conv layers size: torch.Size([32, 48, 125, 125])\n",
      "flattened size: torch.Size([32, 750000])\n",
      "head: torch.Size([32, 128])\n",
      "conv layers size: torch.Size([32, 48, 125, 125])\n",
      "flattened size: torch.Size([32, 750000])\n",
      "head: torch.Size([32, 128])\n",
      "conv layers size: torch.Size([32, 48, 125, 125])\n",
      "flattened size: torch.Size([32, 750000])\n",
      "head: torch.Size([32, 128])\n",
      "conv layers size: torch.Size([32, 48, 125, 125])\n",
      "flattened size: torch.Size([32, 750000])\n",
      "head: torch.Size([32, 128])\n",
      "conv layers size: torch.Size([32, 48, 125, 125])\n",
      "flattened size: torch.Size([32, 750000])\n",
      "head: torch.Size([32, 128])\n",
      "conv layers size: torch.Size([32, 48, 125, 125])\n",
      "flattened size: torch.Size([32, 750000])\n",
      "head: torch.Size([32, 128])\n",
      "conv layers size: torch.Size([32, 48, 125, 125])\n",
      "flattened size: torch.Size([32, 750000])\n",
      "head: torch.Size([32, 128])\n",
      "conv layers size: torch.Size([32, 48, 125, 125])\n",
      "flattened size: torch.Size([32, 750000])\n",
      "head: torch.Size([32, 128])\n",
      "conv layers size: torch.Size([32, 48, 125, 125])\n",
      "flattened size: torch.Size([32, 750000])\n",
      "head: torch.Size([32, 128])\n",
      "conv layers size: torch.Size([32, 48, 125, 125])\n",
      "flattened size: torch.Size([32, 750000])\n",
      "head: torch.Size([32, 128])\n",
      "conv layers size: torch.Size([32, 48, 125, 125])\n",
      "flattened size: torch.Size([32, 750000])\n",
      "head: torch.Size([32, 128])\n",
      "conv layers size: torch.Size([32, 48, 125, 125])\n",
      "flattened size: torch.Size([32, 750000])\n",
      "head: torch.Size([32, 128])\n",
      "conv layers size: torch.Size([32, 48, 125, 125])\n",
      "flattened size: torch.Size([32, 750000])\n",
      "head: torch.Size([32, 128])\n",
      "conv layers size: torch.Size([32, 48, 125, 125])\n",
      "flattened size: torch.Size([32, 750000])\n",
      "head: torch.Size([32, 128])\n",
      "conv layers size: torch.Size([32, 48, 125, 125])\n",
      "flattened size: torch.Size([32, 750000])\n",
      "head: torch.Size([32, 128])\n",
      "conv layers size: torch.Size([32, 48, 125, 125])\n",
      "flattened size: torch.Size([32, 750000])\n",
      "head: torch.Size([32, 128])\n",
      "conv layers size: torch.Size([19, 48, 125, 125])\n",
      "flattened size: torch.Size([19, 750000])\n",
      "head: torch.Size([19, 128])\n",
      "19\n"
     ]
    }
   ],
   "source": [
    "import torch.optim as optim\n",
    "epoch_count=5\n",
    "testloader = torch.utils.data.DataLoader(loader, batch_size=32, shuffle=False) #important to set to false here\n",
    "#pbar = tqdm(testloader, leave=True)\n",
    "count=0\n",
    "out=[]\n",
    "stacked_embs = []\n",
    "#for epoch in range(epoch_count):\n",
    "#optimizer = optim.Adam(net.parameters(), lr=0.001)\n",
    "for data in testloader:\n",
    "    \n",
    "    inputs = data\n",
    "    inputs = inputs.to(device)\n",
    "    #optimizer.zero_grad()\n",
    "\n",
    "    outputs = net.get_embedding(inputs)\n",
    "    stacked_embs.append(outputs.detach().cpu().numpy())\n",
    "    count+=1\n",
    "    #print(f\"Epoch: {epoch} running\")\n",
    "stacked_embs = np.concatenate(stacked_embs)\n",
    "print(count)\n",
    "    # normalization\n",
    "stacked_embs = (stacked_embs - stacked_embs.min(axis=0))/(stacked_embs.max(axis=0)-stacked_embs.min(axis=0))"
   ]
  },
  {
   "cell_type": "code",
   "execution_count": 71,
   "metadata": {},
   "outputs": [
    {
     "data": {
      "text/plain": [
       "(128,)"
      ]
     },
     "execution_count": 71,
     "metadata": {},
     "output_type": "execute_result"
    }
   ],
   "source": [
    "stacked_embs[0].shape"
   ]
  },
  {
   "cell_type": "code",
   "execution_count": null,
   "metadata": {},
   "outputs": [],
   "source": []
  },
  {
   "cell_type": "code",
   "execution_count": 63,
   "metadata": {},
   "outputs": [
    {
     "ename": "ValueError",
     "evalue": "cannot reshape array of size 76160 into shape (595,500)",
     "output_type": "error",
     "traceback": [
      "\u001b[1;31m---------------------------------------------------------------------------\u001b[0m",
      "\u001b[1;31mValueError\u001b[0m                                Traceback (most recent call last)",
      "Cell \u001b[1;32mIn[63], line 1\u001b[0m\n\u001b[1;32m----> 1\u001b[0m stacked_emb \u001b[38;5;241m=\u001b[39m \u001b[43mstacked_em\u001b[49m\u001b[38;5;241;43m.\u001b[39;49m\u001b[43mreshape\u001b[49m\u001b[43m(\u001b[49m\u001b[43m(\u001b[49m\u001b[38;5;241;43m595\u001b[39;49m\u001b[43m,\u001b[49m\u001b[43m \u001b[49m\u001b[38;5;241;43m500\u001b[39;49m\u001b[43m)\u001b[49m\u001b[43m)\u001b[49m\n",
      "\u001b[1;31mValueError\u001b[0m: cannot reshape array of size 76160 into shape (595,500)"
     ]
    }
   ],
   "source": [
    "stacked_emb = stacked_em.reshape((595, 500))"
   ]
  },
  {
   "cell_type": "code",
   "execution_count": 92,
   "metadata": {},
   "outputs": [],
   "source": [
    "from sklearn.cluster import KMeans\n",
    "\n",
    "n_clusters = 5\n",
    "\n",
    "f_stacked_embs = stacked_embs\n",
    "\n",
    "model = KMeans(n_clusters).fit(f_stacked_embs)\n",
    "clusters = model.predict(f_stacked_embs)\n",
    "\n",
    "#img_clusters = clusters.reshape((5,4))"
   ]
  },
  {
   "cell_type": "code",
   "execution_count": 94,
   "metadata": {},
   "outputs": [
    {
     "data": {
      "text/plain": [
       "(595,)"
      ]
     },
     "execution_count": 94,
     "metadata": {},
     "output_type": "execute_result"
    }
   ],
   "source": [
    "clusters.shape"
   ]
  },
  {
   "cell_type": "code",
   "execution_count": 93,
   "metadata": {},
   "outputs": [
    {
     "ename": "TypeError",
     "evalue": "reshape() takes exactly 1 argument (0 given)",
     "output_type": "error",
     "traceback": [
      "\u001b[1;31m---------------------------------------------------------------------------\u001b[0m",
      "\u001b[1;31mTypeError\u001b[0m                                 Traceback (most recent call last)",
      "Cell \u001b[1;32mIn[93], line 1\u001b[0m\n\u001b[1;32m----> 1\u001b[0m \u001b[43mclusters\u001b[49m\u001b[38;5;241;43m.\u001b[39;49m\u001b[43mreshape\u001b[49m\u001b[43m(\u001b[49m\u001b[43m)\u001b[49m\n",
      "\u001b[1;31mTypeError\u001b[0m: reshape() takes exactly 1 argument (0 given)"
     ]
    }
   ],
   "source": [
    "clusters.reshape()"
   ]
  },
  {
   "cell_type": "code",
   "execution_count": 82,
   "metadata": {},
   "outputs": [
    {
     "ename": "TypeError",
     "evalue": "Invalid shape (2975,) for image data",
     "output_type": "error",
     "traceback": [
      "\u001b[1;31m---------------------------------------------------------------------------\u001b[0m",
      "\u001b[1;31mTypeError\u001b[0m                                 Traceback (most recent call last)",
      "Cell \u001b[1;32mIn[82], line 2\u001b[0m\n\u001b[0;32m      1\u001b[0m plt\u001b[38;5;241m.\u001b[39mfigure(figsize\u001b[38;5;241m=\u001b[39m(\u001b[38;5;241m5\u001b[39m,\u001b[38;5;241m10\u001b[39m))\n\u001b[1;32m----> 2\u001b[0m \u001b[43mplt\u001b[49m\u001b[38;5;241;43m.\u001b[39;49m\u001b[43mimshow\u001b[49m\u001b[43m(\u001b[49m\u001b[43mclusters\u001b[49m\u001b[43m)\u001b[49m\u001b[38;5;66;03m#, cmap=\"tab10\", interpolation=\"nearest\")\u001b[39;00m\n\u001b[0;32m      3\u001b[0m plt\u001b[38;5;241m.\u001b[39mshow()\n",
      "File \u001b[1;32mc:\\Users\\prabh\\anaconda3\\envs\\tf-gpu\\lib\\site-packages\\matplotlib\\pyplot.py:3562\u001b[0m, in \u001b[0;36mimshow\u001b[1;34m(X, cmap, norm, aspect, interpolation, alpha, vmin, vmax, origin, extent, interpolation_stage, filternorm, filterrad, resample, url, data, **kwargs)\u001b[0m\n\u001b[0;32m   3541\u001b[0m \u001b[38;5;129m@_copy_docstring_and_deprecators\u001b[39m(Axes\u001b[38;5;241m.\u001b[39mimshow)\n\u001b[0;32m   3542\u001b[0m \u001b[38;5;28;01mdef\u001b[39;00m \u001b[38;5;21mimshow\u001b[39m(\n\u001b[0;32m   3543\u001b[0m     X: ArrayLike \u001b[38;5;241m|\u001b[39m PIL\u001b[38;5;241m.\u001b[39mImage\u001b[38;5;241m.\u001b[39mImage,\n\u001b[1;32m   (...)\u001b[0m\n\u001b[0;32m   3560\u001b[0m     \u001b[38;5;241m*\u001b[39m\u001b[38;5;241m*\u001b[39mkwargs,\n\u001b[0;32m   3561\u001b[0m ) \u001b[38;5;241m-\u001b[39m\u001b[38;5;241m>\u001b[39m AxesImage:\n\u001b[1;32m-> 3562\u001b[0m     __ret \u001b[38;5;241m=\u001b[39m gca()\u001b[38;5;241m.\u001b[39mimshow(\n\u001b[0;32m   3563\u001b[0m         X,\n\u001b[0;32m   3564\u001b[0m         cmap\u001b[38;5;241m=\u001b[39mcmap,\n\u001b[0;32m   3565\u001b[0m         norm\u001b[38;5;241m=\u001b[39mnorm,\n\u001b[0;32m   3566\u001b[0m         aspect\u001b[38;5;241m=\u001b[39maspect,\n\u001b[0;32m   3567\u001b[0m         interpolation\u001b[38;5;241m=\u001b[39minterpolation,\n\u001b[0;32m   3568\u001b[0m         alpha\u001b[38;5;241m=\u001b[39malpha,\n\u001b[0;32m   3569\u001b[0m         vmin\u001b[38;5;241m=\u001b[39mvmin,\n\u001b[0;32m   3570\u001b[0m         vmax\u001b[38;5;241m=\u001b[39mvmax,\n\u001b[0;32m   3571\u001b[0m         origin\u001b[38;5;241m=\u001b[39morigin,\n\u001b[0;32m   3572\u001b[0m         extent\u001b[38;5;241m=\u001b[39mextent,\n\u001b[0;32m   3573\u001b[0m         interpolation_stage\u001b[38;5;241m=\u001b[39minterpolation_stage,\n\u001b[0;32m   3574\u001b[0m         filternorm\u001b[38;5;241m=\u001b[39mfilternorm,\n\u001b[0;32m   3575\u001b[0m         filterrad\u001b[38;5;241m=\u001b[39mfilterrad,\n\u001b[0;32m   3576\u001b[0m         resample\u001b[38;5;241m=\u001b[39mresample,\n\u001b[0;32m   3577\u001b[0m         url\u001b[38;5;241m=\u001b[39murl,\n\u001b[0;32m   3578\u001b[0m         \u001b[38;5;241m*\u001b[39m\u001b[38;5;241m*\u001b[39m({\u001b[38;5;124m\"\u001b[39m\u001b[38;5;124mdata\u001b[39m\u001b[38;5;124m\"\u001b[39m: data} \u001b[38;5;28;01mif\u001b[39;00m data \u001b[38;5;129;01mis\u001b[39;00m \u001b[38;5;129;01mnot\u001b[39;00m \u001b[38;5;28;01mNone\u001b[39;00m \u001b[38;5;28;01melse\u001b[39;00m {}),\n\u001b[0;32m   3579\u001b[0m         \u001b[38;5;241m*\u001b[39m\u001b[38;5;241m*\u001b[39mkwargs,\n\u001b[0;32m   3580\u001b[0m     )\n\u001b[0;32m   3581\u001b[0m     sci(__ret)\n\u001b[0;32m   3582\u001b[0m     \u001b[38;5;28;01mreturn\u001b[39;00m __ret\n",
      "File \u001b[1;32mc:\\Users\\prabh\\anaconda3\\envs\\tf-gpu\\lib\\site-packages\\matplotlib\\__init__.py:1473\u001b[0m, in \u001b[0;36m_preprocess_data.<locals>.inner\u001b[1;34m(ax, data, *args, **kwargs)\u001b[0m\n\u001b[0;32m   1470\u001b[0m \u001b[38;5;129m@functools\u001b[39m\u001b[38;5;241m.\u001b[39mwraps(func)\n\u001b[0;32m   1471\u001b[0m \u001b[38;5;28;01mdef\u001b[39;00m \u001b[38;5;21minner\u001b[39m(ax, \u001b[38;5;241m*\u001b[39margs, data\u001b[38;5;241m=\u001b[39m\u001b[38;5;28;01mNone\u001b[39;00m, \u001b[38;5;241m*\u001b[39m\u001b[38;5;241m*\u001b[39mkwargs):\n\u001b[0;32m   1472\u001b[0m     \u001b[38;5;28;01mif\u001b[39;00m data \u001b[38;5;129;01mis\u001b[39;00m \u001b[38;5;28;01mNone\u001b[39;00m:\n\u001b[1;32m-> 1473\u001b[0m         \u001b[38;5;28;01mreturn\u001b[39;00m func(\n\u001b[0;32m   1474\u001b[0m             ax,\n\u001b[0;32m   1475\u001b[0m             \u001b[38;5;241m*\u001b[39m\u001b[38;5;28mmap\u001b[39m(sanitize_sequence, args),\n\u001b[0;32m   1476\u001b[0m             \u001b[38;5;241m*\u001b[39m\u001b[38;5;241m*\u001b[39m{k: sanitize_sequence(v) \u001b[38;5;28;01mfor\u001b[39;00m k, v \u001b[38;5;129;01min\u001b[39;00m kwargs\u001b[38;5;241m.\u001b[39mitems()})\n\u001b[0;32m   1478\u001b[0m     bound \u001b[38;5;241m=\u001b[39m new_sig\u001b[38;5;241m.\u001b[39mbind(ax, \u001b[38;5;241m*\u001b[39margs, \u001b[38;5;241m*\u001b[39m\u001b[38;5;241m*\u001b[39mkwargs)\n\u001b[0;32m   1479\u001b[0m     auto_label \u001b[38;5;241m=\u001b[39m (bound\u001b[38;5;241m.\u001b[39marguments\u001b[38;5;241m.\u001b[39mget(label_namer)\n\u001b[0;32m   1480\u001b[0m                   \u001b[38;5;129;01mor\u001b[39;00m bound\u001b[38;5;241m.\u001b[39mkwargs\u001b[38;5;241m.\u001b[39mget(label_namer))\n",
      "File \u001b[1;32mc:\\Users\\prabh\\anaconda3\\envs\\tf-gpu\\lib\\site-packages\\matplotlib\\axes\\_axes.py:5895\u001b[0m, in \u001b[0;36mAxes.imshow\u001b[1;34m(self, X, cmap, norm, aspect, interpolation, alpha, vmin, vmax, origin, extent, interpolation_stage, filternorm, filterrad, resample, url, **kwargs)\u001b[0m\n\u001b[0;32m   5892\u001b[0m \u001b[38;5;28;01mif\u001b[39;00m aspect \u001b[38;5;129;01mis\u001b[39;00m \u001b[38;5;129;01mnot\u001b[39;00m \u001b[38;5;28;01mNone\u001b[39;00m:\n\u001b[0;32m   5893\u001b[0m     \u001b[38;5;28mself\u001b[39m\u001b[38;5;241m.\u001b[39mset_aspect(aspect)\n\u001b[1;32m-> 5895\u001b[0m \u001b[43mim\u001b[49m\u001b[38;5;241;43m.\u001b[39;49m\u001b[43mset_data\u001b[49m\u001b[43m(\u001b[49m\u001b[43mX\u001b[49m\u001b[43m)\u001b[49m\n\u001b[0;32m   5896\u001b[0m im\u001b[38;5;241m.\u001b[39mset_alpha(alpha)\n\u001b[0;32m   5897\u001b[0m \u001b[38;5;28;01mif\u001b[39;00m im\u001b[38;5;241m.\u001b[39mget_clip_path() \u001b[38;5;129;01mis\u001b[39;00m \u001b[38;5;28;01mNone\u001b[39;00m:\n\u001b[0;32m   5898\u001b[0m     \u001b[38;5;66;03m# image does not already have clipping set, clip to Axes patch\u001b[39;00m\n",
      "File \u001b[1;32mc:\\Users\\prabh\\anaconda3\\envs\\tf-gpu\\lib\\site-packages\\matplotlib\\image.py:729\u001b[0m, in \u001b[0;36m_ImageBase.set_data\u001b[1;34m(self, A)\u001b[0m\n\u001b[0;32m    727\u001b[0m \u001b[38;5;28;01mif\u001b[39;00m \u001b[38;5;28misinstance\u001b[39m(A, PIL\u001b[38;5;241m.\u001b[39mImage\u001b[38;5;241m.\u001b[39mImage):\n\u001b[0;32m    728\u001b[0m     A \u001b[38;5;241m=\u001b[39m pil_to_array(A)  \u001b[38;5;66;03m# Needed e.g. to apply png palette.\u001b[39;00m\n\u001b[1;32m--> 729\u001b[0m \u001b[38;5;28mself\u001b[39m\u001b[38;5;241m.\u001b[39m_A \u001b[38;5;241m=\u001b[39m \u001b[38;5;28;43mself\u001b[39;49m\u001b[38;5;241;43m.\u001b[39;49m\u001b[43m_normalize_image_array\u001b[49m\u001b[43m(\u001b[49m\u001b[43mA\u001b[49m\u001b[43m)\u001b[49m\n\u001b[0;32m    730\u001b[0m \u001b[38;5;28mself\u001b[39m\u001b[38;5;241m.\u001b[39m_imcache \u001b[38;5;241m=\u001b[39m \u001b[38;5;28;01mNone\u001b[39;00m\n\u001b[0;32m    731\u001b[0m \u001b[38;5;28mself\u001b[39m\u001b[38;5;241m.\u001b[39mstale \u001b[38;5;241m=\u001b[39m \u001b[38;5;28;01mTrue\u001b[39;00m\n",
      "File \u001b[1;32mc:\\Users\\prabh\\anaconda3\\envs\\tf-gpu\\lib\\site-packages\\matplotlib\\image.py:697\u001b[0m, in \u001b[0;36m_ImageBase._normalize_image_array\u001b[1;34m(A)\u001b[0m\n\u001b[0;32m    695\u001b[0m     A \u001b[38;5;241m=\u001b[39m A\u001b[38;5;241m.\u001b[39msqueeze(\u001b[38;5;241m-\u001b[39m\u001b[38;5;241m1\u001b[39m)  \u001b[38;5;66;03m# If just (M, N, 1), assume scalar and apply colormap.\u001b[39;00m\n\u001b[0;32m    696\u001b[0m \u001b[38;5;28;01mif\u001b[39;00m \u001b[38;5;129;01mnot\u001b[39;00m (A\u001b[38;5;241m.\u001b[39mndim \u001b[38;5;241m==\u001b[39m \u001b[38;5;241m2\u001b[39m \u001b[38;5;129;01mor\u001b[39;00m A\u001b[38;5;241m.\u001b[39mndim \u001b[38;5;241m==\u001b[39m \u001b[38;5;241m3\u001b[39m \u001b[38;5;129;01mand\u001b[39;00m A\u001b[38;5;241m.\u001b[39mshape[\u001b[38;5;241m-\u001b[39m\u001b[38;5;241m1\u001b[39m] \u001b[38;5;129;01min\u001b[39;00m [\u001b[38;5;241m3\u001b[39m, \u001b[38;5;241m4\u001b[39m]):\n\u001b[1;32m--> 697\u001b[0m     \u001b[38;5;28;01mraise\u001b[39;00m \u001b[38;5;167;01mTypeError\u001b[39;00m(\u001b[38;5;124mf\u001b[39m\u001b[38;5;124m\"\u001b[39m\u001b[38;5;124mInvalid shape \u001b[39m\u001b[38;5;132;01m{\u001b[39;00mA\u001b[38;5;241m.\u001b[39mshape\u001b[38;5;132;01m}\u001b[39;00m\u001b[38;5;124m for image data\u001b[39m\u001b[38;5;124m\"\u001b[39m)\n\u001b[0;32m    698\u001b[0m \u001b[38;5;28;01mif\u001b[39;00m A\u001b[38;5;241m.\u001b[39mndim \u001b[38;5;241m==\u001b[39m \u001b[38;5;241m3\u001b[39m:\n\u001b[0;32m    699\u001b[0m     \u001b[38;5;66;03m# If the input data has values outside the valid range (after\u001b[39;00m\n\u001b[0;32m    700\u001b[0m     \u001b[38;5;66;03m# normalisation), we issue a warning and then clip X to the bounds\u001b[39;00m\n\u001b[0;32m    701\u001b[0m     \u001b[38;5;66;03m# - otherwise casting wraps extreme values, hiding outliers and\u001b[39;00m\n\u001b[0;32m    702\u001b[0m     \u001b[38;5;66;03m# making reliable interpretation impossible.\u001b[39;00m\n\u001b[0;32m    703\u001b[0m     high \u001b[38;5;241m=\u001b[39m \u001b[38;5;241m255\u001b[39m \u001b[38;5;28;01mif\u001b[39;00m np\u001b[38;5;241m.\u001b[39missubdtype(A\u001b[38;5;241m.\u001b[39mdtype, np\u001b[38;5;241m.\u001b[39minteger) \u001b[38;5;28;01melse\u001b[39;00m \u001b[38;5;241m1\u001b[39m\n",
      "\u001b[1;31mTypeError\u001b[0m: Invalid shape (2975,) for image data"
     ]
    },
    {
     "data": {
      "image/png": "[encoded data removed]",
      "text/plain": [
       "<Figure size 500x1000 with 1 Axes>"
      ]
     },
     "metadata": {},
     "output_type": "display_data"
    }
   ],
   "source": [
    "plt.figure(figsize=(5,10))\n",
    "plt.imshow(clusters)#, cmap=\"tab10\", interpolation=\"nearest\")\n",
    "plt.show()"
   ]
  },
  {
   "cell_type": "code",
   "execution_count": 26,
   "metadata": {},
   "outputs": [
    {
     "data": {
      "text/plain": [
       "'fig, axes = plt.subplots(1,3,figsize=(15,5), sharex=True,sharey=True,tight_layout=True)\\n\\naxes[0].scatter(f_stacked_embs[:,0], f_stacked_embs[:,1], s=0.5)\\naxes[1].scatter(f_stacked_embs[:,0], f_stacked_embs[:,2], s=0.5)\\naxes[2].scatter(f_stacked_embs[:,2], f_stacked_embs[:,1], s=0.5)\\n\\nplt.show()'"
      ]
     },
     "execution_count": 26,
     "metadata": {},
     "output_type": "execute_result"
    }
   ],
   "source": [
    "'''fig, axes = plt.subplots(1,3,figsize=(15,5), sharex=True,sharey=True,tight_layout=True)\n",
    "\n",
    "axes[0].scatter(f_stacked_embs[:,0], f_stacked_embs[:,1], s=0.5)\n",
    "axes[1].scatter(f_stacked_embs[:,0], f_stacked_embs[:,2], s=0.5)\n",
    "axes[2].scatter(f_stacked_embs[:,2], f_stacked_embs[:,1], s=0.5)\n",
    "\n",
    "plt.show()'''"
   ]
  },
  {
   "cell_type": "code",
   "execution_count": 27,
   "metadata": {},
   "outputs": [
    {
     "data": {
      "text/plain": [
       "'# Training setup\\ndevice = \"cuda\" if torch.cuda.is_available() else \"cpu\"\\nnet = SpatialCAE().to(device)\\ncriterion = nn.MSELoss()\\noptimizer = torch.optim.Adam(net.parameters(), lr=1e-3)\\n\\n# Training loop\\nepoch_counts = 5\\nfor epoch in range(epoch_counts):\\n    running_loss = 0.0\\n    for data in training_data:\\n        inputs = data.to(device)\\n        optimizer.zero_grad()\\n        outputs = net(inputs)\\n        loss = criterion(outputs, inputs)\\n        loss.backward()\\n        optimizer.step()\\n        running_loss += loss.item()\\n\\n    print(f\\'Epoch {epoch + 1}/{epoch_counts}, Loss: {running_loss / len(training_data):.4f}\\')'"
      ]
     },
     "execution_count": 27,
     "metadata": {},
     "output_type": "execute_result"
    }
   ],
   "source": [
    "'''# Training setup\n",
    "device = \"cuda\" if torch.cuda.is_available() else \"cpu\"\n",
    "net = SpatialCAE().to(device)\n",
    "criterion = nn.MSELoss()\n",
    "optimizer = torch.optim.Adam(net.parameters(), lr=1e-3)\n",
    "\n",
    "# Training loop\n",
    "epoch_counts = 5\n",
    "for epoch in range(epoch_counts):\n",
    "    running_loss = 0.0\n",
    "    for data in training_data:\n",
    "        inputs = data.to(device)\n",
    "        optimizer.zero_grad()\n",
    "        outputs = net(inputs)\n",
    "        loss = criterion(outputs, inputs)\n",
    "        loss.backward()\n",
    "        optimizer.step()\n",
    "        running_loss += loss.item()\n",
    "\n",
    "    print(f'Epoch {epoch + 1}/{epoch_counts}, Loss: {running_loss / len(training_data):.4f}')'''"
   ]
  },
  {
   "cell_type": "code",
   "execution_count": null,
   "metadata": {},
   "outputs": [],
   "source": []
  },
  {
   "cell_type": "code",
   "execution_count": null,
   "metadata": {},
   "outputs": [],
   "source": []
  }
 ],
 "metadata": {
  "kernelspec": {
   "display_name": "tf-gpu",
   "language": "python",
   "name": "python3"
  },
  "language_info": {
   "codemirror_mode": {
    "name": "ipython",
    "version": 3
   },
   "file_extension": ".py",
   "mimetype": "text/x-python",
   "name": "python",
   "nbconvert_exporter": "python",
   "pygments_lexer": "ipython3",
   "version": "3.9.19"
  }
 },
 "nbformat": 4,
 "nbformat_minor": 2
}
